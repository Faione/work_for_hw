{
 "cells": [
  {
   "cell_type": "markdown",
   "id": "cfefede9-5367-4414-a16f-a51d30b488a2",
   "metadata": {},
   "source": [
    "# Workload聚合数据-多压力"
   ]
  },
  {
   "cell_type": "code",
   "execution_count": null,
   "id": "0e2f762f-4d5f-47a3-86f3-6dc6a8377ecb",
   "metadata": {},
   "outputs": [],
   "source": [
    "import sys\n",
    "sys.path.append('./tools')\n",
    "\n",
    "from aggregation import *\n",
    "import analyze\n",
    "import display"
   ]
  },
  {
   "cell_type": "code",
   "execution_count": null,
   "id": "658fff2c-cb21-4aab-8617-2366b033dedb",
   "metadata": {},
   "outputs": [],
   "source": [
    "exp_root = \"/home/ict/appProfile/data/redis_1\"\n",
    "senario = \"same_numa\"\n",
    "qos_columns = [\n",
    "    \"app_redis_qos_qps_of_redis_get\",\n",
    "    \"app_redis_qos_qps_of_redis_total\",\n",
    "    \"app_redis_qos_qps_of_redis_set\",\n",
    "    \"app_redis_qos_p99_latency_set\",\n",
    "    \"app_redis_qos_p99_latency_get\",\n",
    "]\n",
    "\n",
    "\n",
    "\n",
    "corr_f = analyze.pearson_correlation\n",
    "exp_roots = exp_roots_from_dir(exp_root, senario)"
   ]
  },
  {
   "cell_type": "code",
   "execution_count": null,
   "id": "73153cce-074e-4e81-9f51-e27c08c6d945",
   "metadata": {},
   "outputs": [],
   "source": [
    "no_stress_exp_root = exp_roots[\"no_stress\"]\n",
    "exp_root = exp_roots[\"stresses\"][0]\n",
    "\n",
    "no_stress_exp_data = read_from_dir(no_stress_exp_root)\n",
    "no_stress_exp_data.set_workload_preprocess_funcs([\n",
    "    filter_column_startswith(col_prefix=(\"vm\", \"app\")),\n",
    "    filter_column_useless(),\n",
    "    filter_row_noise(col_prefix=(\"app\")),\n",
    "])\n",
    "\n",
    "no_stress_df_epoch = no_stress_exp_data.agg_epoch()\n",
    "workload_keys = list(no_stress_df_epoch.index)\n",
    "workload_keys"
   ]
  },
  {
   "cell_type": "code",
   "execution_count": null,
   "id": "83b103a4-ec56-4b30-b6e5-9fa6d566598a",
   "metadata": {},
   "outputs": [],
   "source": [
    "# 选择workload\n",
    "workload_key = workload_keys[8]\n",
    "# 选择QoS指标\n",
    "qos_column = qos_columns[3]"
   ]
  },
  {
   "cell_type": "markdown",
   "id": "f8cf2dd8-8699-4f50-ae25-9171c95be499",
   "metadata": {},
   "source": [
    "# 一、干扰敏感度分析"
   ]
  },
  {
   "cell_type": "markdown",
   "id": "5f4ea82d-88f6-4cc0-b77f-0eeea3e5113e",
   "metadata": {},
   "source": [
    "## 1. Workload对于不同干扰的箱线图"
   ]
  },
  {
   "cell_type": "code",
   "execution_count": null,
   "id": "e4247336-344e-478f-9ad0-752c6763f30e",
   "metadata": {},
   "outputs": [],
   "source": [
    "for exp_root in exp_roots[\"stresses\"]:\n",
    "    exp_data = read_from_dir(exp_root)\n",
    "    exp_data.set_workload_preprocess_funcs([\n",
    "        filter_column_startswith(col_prefix=(\"stress\", \"vm\", \"app\")),\n",
    "        filter_column_useless(excol_prefix=(\"stress\")),\n",
    "        filter_row_noise(col_prefix=(\"app\")),\n",
    "    ])\n",
    "\n",
    "\n",
    "    df = exp_data.one_column_on_stresses(qos_column, workload_key)\n",
    "    display.plt_box(df, \"\", qos_column)"
   ]
  },
  {
   "cell_type": "markdown",
   "id": "3f2899c9-7284-4914-ab8e-93b3873449cc",
   "metadata": {},
   "source": [
    "## 2. 不同Workload下的劣化程度"
   ]
  },
  {
   "cell_type": "code",
   "execution_count": null,
   "id": "344029c6-cfd3-4366-aa08-534f9bfa302d",
   "metadata": {},
   "outputs": [],
   "source": [
    "dfs = []\n",
    "for exp_root in exp_roots[\"stresses\"]:\n",
    "    exp_data = read_from_dir(exp_root)\n",
    "    df = agg_per_workload_column_on_stress(exp_data, no_stress_df_epoch, qos_column, stress=\"stress_cpu-load\")\n",
    "    dfs.append(df)\n",
    "det_df = pd.concat(dfs)\n",
    "det_df"
   ]
  },
  {
   "cell_type": "code",
   "execution_count": null,
   "id": "3a59f0ca-f2ab-464b-92aa-658693c72986",
   "metadata": {},
   "outputs": [],
   "source": [
    "display.plt_deterioration_heatmap(det_df, qos_column)"
   ]
  }
 ],
 "metadata": {
  "kernelspec": {
   "display_name": "Python 3 (ipykernel)",
   "language": "python",
   "name": "python3"
  },
  "language_info": {
   "codemirror_mode": {
    "name": "ipython",
    "version": 3
   },
   "file_extension": ".py",
   "mimetype": "text/x-python",
   "name": "python",
   "nbconvert_exporter": "python",
   "pygments_lexer": "ipython3",
   "version": "3.11.4"
  }
 },
 "nbformat": 4,
 "nbformat_minor": 5
}
