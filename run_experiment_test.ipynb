{
 "cells": [
  {
   "cell_type": "code",
   "execution_count": null,
   "id": "bd0d7278-bc23-4ca1-a14c-fbcb2f8fb66a",
   "metadata": {},
   "outputs": [],
   "source": [
    "import sys\n",
    "from run_experiment import *"
   ]
  },
  {
   "cell_type": "code",
   "execution_count": null,
   "id": "aa93f9db-3d5f-4f53-8952-dfe1f3c36b9a",
   "metadata": {},
   "outputs": [],
   "source": [
    "# Test yrange_to_range\n",
    "\n",
    "yrange_test_cases = [\n",
    "    {\"input\": [1, 2, 3, 4], \"output\": [1, 2, 3, 4]},\n",
    "    {\"input\": {\"end\": 4}, \"output\": [0, 1, 2, 3]},\n",
    "    {\"input\": {\"start\": 1, \"end\": 4}, \"output\": [1, 2, 3]},\n",
    "    {\"input\": {\"start\": 1, \"end\": 4, \"step\": 3}, \"output\": [1]},\n",
    "    {\"input\": {\"start\": 1, \"end\": 4, \"step\": 1, \"map\": \"lambda x : 2**x\"}, \"output\": [2, 4, 8]},\n",
    "    \n",
    "    # error test\n",
    "    {\"input\": {\"start\": 1}, \"output\": []},\n",
    "    {\"input\": 1, \"output\": []},\n",
    "]\n",
    "\n",
    "for case in yrange_test_cases:\n",
    "    assert yrange_to_range(case[\"input\"]) == case[\"output\"]\n",
    "\n",
    "print(\"yrange_to_range passed\")"
   ]
  },
  {
   "cell_type": "code",
   "execution_count": null,
   "id": "b212ad98-cb4e-4d85-b3dc-3992816469f7",
   "metadata": {},
   "outputs": [],
   "source": [
    "exp_yaml = \"conf/experiment_same_cpu.yaml\"\n",
    "\n",
    "with open(exp_yaml, 'r') as f:\n",
    "    file_data = f.read()    \n",
    "    cfg = yaml.load(file_data, yaml.FullLoader)\n",
    "    # cfg = yaml.load(file_data)\n",
    "    \n",
    "if \"default_opt_interval\" in cfg:\n",
    "    DEFAULT_OPT_INTERVAL = cfg[\"default_opt_interval\"]\n",
    "\n",
    "workload_exec_cfgs = cfg[\"workload_exec\"]\n",
    "stress_exec_cfgs = [{}]\n",
    "if \"stress_exec\" in cfg:\n",
    "    stress_exec_cfgs = cfg[\"stress_exec\"]\n",
    "\n",
    "exp = exp_from_yaml(cfg[\"experiment\"])\n",
    "data_root = cfg[\"data_root\"]\n",
    "for workload_exec_cfg in workload_exec_cfgs:\n",
    "    for stress_exec_cfg in stress_exec_cfgs:\n",
    "        if \"opt_interval\" not in workload_exec_cfg:\n",
    "            workload_exec_cfg[\"opt_interval\"] = DEFAULT_OPT_INTERVAL\n",
    "        if stress_exec_cfg != {} and \"opt_interval\" not in stress_exec_cfg:\n",
    "            stress_exec_cfg[\"opt_interval\"] = DEFAULT_OPT_INTERVAL \n",
    "        \n",
    "        workload_exec = workload_exec_from_yaml(workload_exec_cfg)\n",
    "        stress_exec = stress_exec_from_yaml(stress_exec_cfg)\n",
    "        print(exp.__dict__)\n",
    "        print(workload_exec.__dict__)\n",
    "        print(stress_exec.__dict__)"
   ]
  }
 ],
 "metadata": {
  "kernelspec": {
   "display_name": "Python 3 (ipykernel)",
   "language": "python",
   "name": "python3"
  },
  "language_info": {
   "codemirror_mode": {
    "name": "ipython",
    "version": 3
   },
   "file_extension": ".py",
   "mimetype": "text/x-python",
   "name": "python",
   "nbconvert_exporter": "python",
   "pygments_lexer": "ipython3",
   "version": "3.11.4"
  }
 },
 "nbformat": 4,
 "nbformat_minor": 5
}
