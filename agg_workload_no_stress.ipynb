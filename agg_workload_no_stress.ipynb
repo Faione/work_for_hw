{
 "cells": [
  {
   "cell_type": "markdown",
   "id": "aa9b17bf-ef25-4f02-a717-6091abc96783",
   "metadata": {},
   "source": [
    "# 无压力下Workload聚合数据分析"
   ]
  },
  {
   "cell_type": "code",
   "execution_count": null,
   "id": "5d9b69f6-0e58-48b7-92fe-c6aa39c28dc0",
   "metadata": {},
   "outputs": [],
   "source": [
    "import sys\n",
    "sys.path.append('./tools')\n",
    "\n",
    "from aggregation import *\n",
    "import analyze\n",
    "import display\n",
    "\n",
    "pd.set_option('display.max_rows', 20)\n",
    "\n",
    "exp_root = \"/home/ict/appProfile/data/redis_1/no_stress/redis_no_20231102130306\"\n",
    "qos_columns = [\n",
    "    \"app_redis_qos_qps_of_redis_get\",\n",
    "    \"app_redis_qos_qps_of_redis_total\",\n",
    "    \"app_redis_qos_qps_of_redis_set\",\n",
    "    \"app_redis_qos_p99_latency_set\",\n",
    "    \"app_redis_qos_p99_latency_get\",\n",
    "]\n",
    "\n",
    "exp_data = read_from_dir(exp_root)\n",
    "exp_data.set_workload_preprocess_funcs([\n",
    "    filter_column_startswith(col_prefix=(\"stress\", \"vm\", \"app\")),\n",
    "    filter_column_useless(excol_prefix=(\"stress\")),\n",
    "    filter_row_noise(col_prefix=(\"app\")),\n",
    "])\n",
    "\n",
    "keys = list(exp_data.exp[\"info_per_epoch\"][0][\"workloads\"].keys())\n",
    "keys"
   ]
  },
  {
   "cell_type": "code",
   "execution_count": null,
   "id": "59eca091-8ee0-4944-842a-5a32d9506e3a",
   "metadata": {},
   "outputs": [],
   "source": [
    "# 选择QoS指标\n",
    "qos_column = qos_columns[3]\n",
    "# 相关性阈值\n",
    "c = 0.90\n",
    "\n",
    "df_workload = exp_data.agg_epoch()\n",
    "df_workload"
   ]
  },
  {
   "cell_type": "code",
   "execution_count": null,
   "id": "bdb50ef8-99ba-4f25-b68f-14d58d8de1b7",
   "metadata": {},
   "outputs": [],
   "source": [
    "corr_matrix = analyze.pearson_correlation(df_workload)\n",
    "\n",
    "single_corr = analyze.single_corr(corr_matrix, \"app_redis_qos_qps_of_redis_total\", similarity_filter = [\n",
    "    lambda x: x[x.abs() > c].dropna(axis=0, how='all'),\n",
    "])\n",
    "\n",
    "display.plt_by_column(df_workload, columns=list(single_corr.index))\n",
    "single_corr"
   ]
  },
  {
   "cell_type": "code",
   "execution_count": null,
   "id": "63e26d80-43f7-4c4d-8d58-8ba0a23efd9b",
   "metadata": {},
   "outputs": [],
   "source": [
    "columns = [\"vm_cpu_cpi\", \"vm_cache_misses_per_thousand_instructions\", \"vm_mem_bandwidth_total_numa_3\"]\n",
    "for column in columns:\n",
    "    display.plt_box(\n",
    "        exp_data.one_column_on_workloads(\n",
    "            column,\n",
    "            df_funcs=[filter_row_noise(col_prefix=(column))]),\n",
    "            \"\", column)"
   ]
  },
  {
   "cell_type": "markdown",
   "id": "7234af29-579b-4949-a3e7-2ff5e32e71eb",
   "metadata": {},
   "source": [
    "# 一、相关性分析"
   ]
  },
  {
   "cell_type": "markdown",
   "id": "fe1fb134-3140-4458-b330-057d9c07c18e",
   "metadata": {},
   "source": [
    "## (1) 皮尔逊相关性"
   ]
  },
  {
   "cell_type": "code",
   "execution_count": null,
   "id": "80a6454e-d820-4b18-9354-e2be99055f77",
   "metadata": {},
   "outputs": [],
   "source": [
    "pearson_corr_matrix = analyze.pearson_correlation(df_workload)\n",
    "pearson_corr_matrix"
   ]
  },
  {
   "cell_type": "code",
   "execution_count": null,
   "id": "463269ed-7d6c-4408-b697-cd0602167e14",
   "metadata": {},
   "outputs": [],
   "source": [
    "display.plt_corr_heatmap(pearson_corr_matrix)"
   ]
  },
  {
   "cell_type": "markdown",
   "id": "2d83dc5f-c6a6-4c8f-8f15-177e5433a609",
   "metadata": {},
   "source": [
    "### 1. 相关性排序"
   ]
  },
  {
   "cell_type": "code",
   "execution_count": null,
   "id": "ab96cf3a-4368-4684-890b-646475b46db2",
   "metadata": {},
   "outputs": [],
   "source": [
    "flat_corr_df = analyze.flatten_corr(\n",
    "    pearson_corr_matrix,\n",
    "    similarity_filter = [\n",
    "        lambda x: x[x.abs() > c].dropna(axis=0, how='all'),\n",
    "])\n",
    "flat_corr_df"
   ]
  },
  {
   "cell_type": "markdown",
   "id": "29837831-636d-4a02-9bd0-87dbfe22723a",
   "metadata": {},
   "source": [
    "### 2. QoS 相关指标"
   ]
  },
  {
   "cell_type": "code",
   "execution_count": null,
   "id": "513030a2-4323-4371-860e-1b746c1b3905",
   "metadata": {},
   "outputs": [],
   "source": [
    "qos_corr = analyze.single_corr(pearson_corr_matrix, qos_column, similarity_filter = [\n",
    "    lambda x: x[x.abs() > c].dropna(axis=0, how='all'),\n",
    "])\n",
    "qos_corr"
   ]
  },
  {
   "cell_type": "code",
   "execution_count": null,
   "id": "fff1959e-3578-4fe5-8533-31e070142e97",
   "metadata": {},
   "outputs": [],
   "source": [
    "display.plt_by_column(df_workload, columns=list(qos_corr.index))"
   ]
  },
  {
   "cell_type": "markdown",
   "id": "62b60b61-023c-41db-b6b5-8ef96f3031de",
   "metadata": {},
   "source": [
    "## 3. 相关性最大团"
   ]
  },
  {
   "cell_type": "code",
   "execution_count": null,
   "id": "4696db49-9a44-48e6-892d-e703f3249b81",
   "metadata": {},
   "outputs": [],
   "source": [
    "G, cliques = analyze.cliques_from_corr(pearson_corr_matrix, threshold=c)\n",
    "largest_clique = cliques[0]\n",
    "largest_clique"
   ]
  },
  {
   "cell_type": "code",
   "execution_count": null,
   "id": "446ae2dc-2504-4a1a-8cbd-2dda27ffffcf",
   "metadata": {},
   "outputs": [],
   "source": [
    "display.plt_clique_on_graph(G, largest_clique, scaling=1.25, label_pos=0.35)"
   ]
  },
  {
   "cell_type": "markdown",
   "id": "d96ab715-fabe-48a3-b122-6aef40ceeb4d",
   "metadata": {},
   "source": [
    "## 4. 不同Workload的最大团"
   ]
  },
  {
   "cell_type": "code",
   "execution_count": null,
   "id": "ee60cc71-3fbf-46c9-9fe5-82706f7bc329",
   "metadata": {},
   "outputs": [],
   "source": [
    "import functools\n",
    "\n",
    "\n",
    "largest_clique_dict = {}\n",
    "for key in keys:\n",
    "    # no stress workload always have one workload\n",
    "    workload_info = exp_data.workloads_of(key)[0]\n",
    "    corr_matrix = analyze.pearson_correlation(exp_data.workload_df(workload_info))\n",
    "    G, cliques = analyze.cliques_from_corr(corr_matrix, threshold=0.95, abs=True)\n",
    "    largest_clique_dict[key] = set(cliques[0])\n",
    "    \n",
    "# 判断与交集的差异\n",
    "sets = list(largest_clique_dict.values())\n",
    "common_clique = functools.reduce(lambda a, b: a.intersection(b), sets)\n",
    "print(\"common_clique len:\", len(common_clique))\n",
    "diff_largest_clique = {k : len(v) - len(common_clique) for k,v in largest_clique_dict.items()}\n",
    "diff_largest_clique"
   ]
  },
  {
   "cell_type": "code",
   "execution_count": null,
   "id": "009920a3-b493-4b6e-b23c-fcf5fed412b7",
   "metadata": {},
   "outputs": [],
   "source": [
    "display.plt_clique_on_graph(G, common_clique, scaling=1.25, label_pos=0.35)"
   ]
  },
  {
   "cell_type": "markdown",
   "id": "09ba25cd-c59e-4fe7-bee3-8fa517bd5121",
   "metadata": {},
   "source": [
    "## (2) 余弦相似性"
   ]
  },
  {
   "cell_type": "code",
   "execution_count": null,
   "id": "634de4d3-5680-40fb-a267-4437ce4c8900",
   "metadata": {},
   "outputs": [],
   "source": [
    "cos_similarity_matrix = analyze.cosine_similarity(df_workload)\n",
    "cos_similarity_matrix"
   ]
  },
  {
   "cell_type": "code",
   "execution_count": null,
   "id": "150a0efe-157b-4b6b-aa08-7cd5b95e2e15",
   "metadata": {},
   "outputs": [],
   "source": [
    "display.plt_corr_heatmap(cos_similarity_matrix)"
   ]
  },
  {
   "cell_type": "markdown",
   "id": "c5bf5514-6838-4535-b2fd-76e29f8c7f89",
   "metadata": {},
   "source": [
    "### 1. 相似性排序"
   ]
  },
  {
   "cell_type": "code",
   "execution_count": null,
   "id": "7a744974-2231-4fda-89af-19cfadafd939",
   "metadata": {},
   "outputs": [],
   "source": [
    "flat_corr_df = analyze.flatten_corr(cos_similarity_matrix, similarity_filter = [\n",
    "    lambda x: x[x > c].dropna(axis=0, how='all'),\n",
    "])\n",
    "flat_corr_df"
   ]
  },
  {
   "cell_type": "markdown",
   "id": "ea3f44aa-81a5-46bc-887d-7c8575c47dbe",
   "metadata": {},
   "source": [
    "### 2. QoS 相似指标"
   ]
  },
  {
   "cell_type": "code",
   "execution_count": null,
   "id": "8f549c0d-e3da-4d6f-953b-56f999811867",
   "metadata": {},
   "outputs": [],
   "source": [
    "qos_corr = analyze.single_corr(cos_similarity_matrix, qos_column, similarity_filter = [\n",
    "    lambda x : x[x.abs() > c].dropna(axis=0, how='all'),\n",
    "    lambda x : x.drop(qos_columns, errors='ignore'),\n",
    "])\n",
    "qos_corr"
   ]
  },
  {
   "cell_type": "code",
   "execution_count": null,
   "id": "4b42a3dd-fde8-458c-8d7a-1e969204a246",
   "metadata": {},
   "outputs": [],
   "source": [
    "display.plt_by_column(df_workload, columns=list(qos_corr.index))"
   ]
  },
  {
   "cell_type": "markdown",
   "id": "a2fcc927-006f-4088-8ab9-ebc2e99565b8",
   "metadata": {},
   "source": [
    "### 3. 相似性最大团"
   ]
  },
  {
   "cell_type": "code",
   "execution_count": null,
   "id": "4ad289eb-79fb-4f3c-a5bf-26abb37eadb2",
   "metadata": {},
   "outputs": [],
   "source": [
    "G, cliques = analyze.cliques_from_corr(cos_similarity_matrix, threshold=0.99)\n",
    "largest_clique = cliques[0]\n",
    "largest_clique"
   ]
  },
  {
   "cell_type": "code",
   "execution_count": null,
   "id": "c92e39f8-fc95-4ad5-afec-a14b22395bb4",
   "metadata": {},
   "outputs": [],
   "source": [
    "display.plt_clique_on_graph(G, largest_clique, scaling=1.25, label_pos=0.35)"
   ]
  },
  {
   "cell_type": "markdown",
   "id": "4b381df7-0575-4af4-bfdf-0bff5a6e5e94",
   "metadata": {},
   "source": [
    "### 4. 不同Workload的最大团"
   ]
  },
  {
   "cell_type": "code",
   "execution_count": null,
   "id": "98838515-c37a-44cc-a0af-75f183470893",
   "metadata": {},
   "outputs": [],
   "source": [
    "import functools\n",
    "\n",
    "\n",
    "largest_clique_dict = {}\n",
    "for key in keys:\n",
    "    # no stress workload always have one workload\n",
    "    workload_info = exp_data.workloads_of(key)[0]\n",
    "    corr_matrix = analyze.cosine_similarity(exp_data.workload_df(workload_info))\n",
    "    G, cliques = analyze.cliques_from_corr(corr_matrix, threshold=c)\n",
    "    largest_clique_dict[key] = set(cliques[0])\n",
    "    \n",
    "# 判断与交集的差异\n",
    "sets = list(largest_clique_dict.values())\n",
    "common_clique = functools.reduce(lambda a, b: a.intersection(b), sets)\n",
    "print(len(common_clique))\n",
    "diff_largest_clique = {k : len(v) - len(common_clique) for k,v in largest_clique_dict.items()}\n",
    "diff_largest_clique"
   ]
  },
  {
   "cell_type": "code",
   "execution_count": null,
   "id": "1ce49d38-f987-41b4-918d-101db1dd5654",
   "metadata": {},
   "outputs": [],
   "source": [
    "display.plt_clique_on_graph(G, common_clique, scaling=1.25, label_pos=0.35)"
   ]
  }
 ],
 "metadata": {
  "kernelspec": {
   "display_name": "Python 3 (ipykernel)",
   "language": "python",
   "name": "python3"
  },
  "language_info": {
   "codemirror_mode": {
    "name": "ipython",
    "version": 3
   },
   "file_extension": ".py",
   "mimetype": "text/x-python",
   "name": "python",
   "nbconvert_exporter": "python",
   "pygments_lexer": "ipython3",
   "version": "3.11.4"
  }
 },
 "nbformat": 4,
 "nbformat_minor": 5
}
