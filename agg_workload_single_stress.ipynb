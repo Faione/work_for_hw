{
 "cells": [
  {
   "cell_type": "markdown",
   "id": "cfefede9-5367-4414-a16f-a51d30b488a2",
   "metadata": {},
   "source": [
    "# 有压力下的 Workload聚合数据分析"
   ]
  },
  {
   "cell_type": "code",
   "execution_count": null,
   "id": "0e2f762f-4d5f-47a3-86f3-6dc6a8377ecb",
   "metadata": {},
   "outputs": [],
   "source": [
    "import sys\n",
    "sys.path.append('./tools')\n",
    "\n",
    "from aggregation import *\n",
    "import analyze\n",
    "import display"
   ]
  },
  {
   "cell_type": "code",
   "execution_count": null,
   "id": "18f4016a-deb7-48dc-82a8-69b8a6c2bd2c",
   "metadata": {},
   "outputs": [],
   "source": [
    "exp_root = \"/home/ict/appProfile/data/redis/same_cpu/redis_cache_20231027124659\"\n",
    "no_stress_exp_root = \"/home/ict/appProfile/data/redis/no_stress/redis_no_20231102090842\"\n",
    "\n",
    "qos_columns = [\n",
    "    \"app_redis_qos_qps_of_redis_get\",\n",
    "    \"app_redis_qos_qps_of_redis_total\",\n",
    "    \"app_redis_qos_qps_of_redis_set\",\n",
    "    \"app_redis_qos_p99_latency_set\",\n",
    "    \"app_redis_qos_p99_latency_get\",\n",
    "]\n",
    "\n",
    "exp_data = read_from_dir(exp_root)\n",
    "exp_data.set_workload_preprocess_funcs([\n",
    "    filter_column_startswith(col_prefix=(\"stress\", \"vm\", \"app\")),\n",
    "    filter_column_useless(excol_prefix=(\"stress\")),\n",
    "    filter_row_noise(col_prefix=(\"app\")),\n",
    "])\n",
    "\n",
    "corr_f = analyze.pearson_correlation\n",
    "\n",
    "df_epoch = exp_data.agg_epoch()\n",
    "df_epoch_group = df_epoch.groupby(df_epoch.index)\n",
    "keys = list(df_epoch_group.groups.keys())\n",
    "keys"
   ]
  },
  {
   "cell_type": "code",
   "execution_count": null,
   "id": "83b103a4-ec56-4b30-b6e5-9fa6d566598a",
   "metadata": {},
   "outputs": [],
   "source": [
    "# 选择 workload\n",
    "df_key = keys[6]\n",
    "# 选择QoS指标\n",
    "qos_column = qos_columns[3]\n",
    "# 相关性阈值\n",
    "c = 0.85\n",
    "\n",
    "df_workload = df_epoch_group.get_group(df_key)\n",
    "stress = list(df_workload.columns)[0]\n",
    "df_workload"
   ]
  },
  {
   "cell_type": "markdown",
   "id": "2fa33e95-4fab-4f87-b2b8-f44561a62081",
   "metadata": {},
   "source": [
    "# 一、干扰劣化分析"
   ]
  },
  {
   "cell_type": "markdown",
   "id": "6160e59f-d1ed-4acf-854a-4371ec159135",
   "metadata": {},
   "source": [
    "## (1) 劣化程度分析"
   ]
  },
  {
   "cell_type": "code",
   "execution_count": null,
   "id": "0c931bda-58af-4d24-85b2-19f1c0bb5141",
   "metadata": {},
   "outputs": [],
   "source": [
    "no_stress_exp_data = read_from_dir(no_stress_exp_root)\n",
    "no_stress_exp_data.set_workload_preprocess_funcs([\n",
    "    filter_column_startswith(col_prefix=(\"vm\", \"app\")),\n",
    "    filter_column_useless(),\n",
    "    filter_row_noise(col_prefix=(\"app\")),\n",
    "])\n",
    "\n",
    "no_stress_df_epoch = no_stress_exp_data.agg_epoch()\n",
    "no_stress = no_stress_df_epoch.loc[[df_key]]\n",
    "\n",
    "# no_stress may have diffrent column\n",
    "common_columns = list(set(no_stress.columns).intersection(set(df_workload.columns)))\n",
    "no_stress = no_stress[common_columns]\n",
    "\n",
    "delta_df = df_workload[common_columns] - no_stress\n",
    "delta_df"
   ]
  },
  {
   "cell_type": "markdown",
   "id": "ecf90a5b-c9a2-43f2-b0f8-8dd662ba5733",
   "metadata": {},
   "source": [
    "### 1. QoS劣化与压力"
   ]
  },
  {
   "cell_type": "code",
   "execution_count": null,
   "id": "697add55-c57a-4964-95a2-2baebe37eef5",
   "metadata": {},
   "outputs": [],
   "source": [
    "percentage_df = 100 * delta_df / no_stress\n",
    "percentage_df[stress] = df_workload[stress]\n",
    "percentage_df.index = [f\"{stress.split('_', 1)[1]}_{i}\"for i in df_workload[stress]]\n",
    "percentage_df[qos_columns]"
   ]
  },
  {
   "cell_type": "code",
   "execution_count": null,
   "id": "ec09cf04-bfc8-4c8a-8671-6f6399c2e73a",
   "metadata": {},
   "outputs": [],
   "source": [
    "display.plt_by_column(percentage_df, columns=qos_columns)"
   ]
  },
  {
   "cell_type": "markdown",
   "id": "8539ec0a-0722-4f46-afbb-5f4534181143",
   "metadata": {},
   "source": [
    "### 2. 指标劣化与压力相关性"
   ]
  },
  {
   "cell_type": "code",
   "execution_count": null,
   "id": "c23d9b05-c4d8-4845-826d-5d9e442ca810",
   "metadata": {},
   "outputs": [],
   "source": [
    "# 考虑percentage会有许多除数为0的情况，因此使用 delta\n",
    "delta_df[stress] = df_workload[stress]\n",
    "corr_matrix = corr_f(delta_df)\n",
    "\n",
    "stress_corr = analyze.single_corr(corr_matrix, stress, similarity_filter = [\n",
    "    lambda x: x[x.abs() > c].dropna(axis=0, how='all'),\n",
    "])\n",
    "stress_corr"
   ]
  },
  {
   "cell_type": "code",
   "execution_count": null,
   "id": "513b9342-9f29-4efb-b35b-acadd3c87d9c",
   "metadata": {},
   "outputs": [],
   "source": [
    "display.plt_by_column(delta_df.set_index(stress), columns=list(stress_corr.index), ncols=3)"
   ]
  },
  {
   "cell_type": "markdown",
   "id": "fe7f541a-2101-4890-a754-b4d790b174b5",
   "metadata": {},
   "source": [
    "### 3. QoS劣化与指标相关性"
   ]
  },
  {
   "cell_type": "code",
   "execution_count": null,
   "id": "a5dc0142-9f67-49ed-8158-00ad0a7993cd",
   "metadata": {},
   "outputs": [],
   "source": [
    "qos_column = qos_columns[3]\n",
    "qos_corr = analyze.single_corr(corr_matrix, qos_column, similarity_filter = [\n",
    "    lambda x : x[x.abs() > c].dropna(axis=0, how='all'),\n",
    "    lambda x : x.drop(qos_columns, errors='ignore'),\n",
    "])\n",
    "qos_corr"
   ]
  },
  {
   "cell_type": "code",
   "execution_count": null,
   "id": "ed09e93a-f695-4fc8-9284-2feedb9da458",
   "metadata": {},
   "outputs": [],
   "source": [
    "display.plt_by_column(delta_df, x_column=qos_column, columns=list(qos_corr.index), ncols=3)"
   ]
  },
  {
   "cell_type": "markdown",
   "id": "033bae90-3677-4c6f-a34e-1dbb869e2428",
   "metadata": {},
   "source": [
    "### 4. 箱线图绘制"
   ]
  },
  {
   "cell_type": "code",
   "execution_count": null,
   "id": "ecbe71c6-9a71-4ed6-98f5-6fb62a8c5a1f",
   "metadata": {
    "scrolled": true
   },
   "outputs": [],
   "source": [
    "column = qos_columns[4]\n",
    "df = exp_data.one_column_on_stresses(column, df_key)\n",
    "display.plt_box(df, stress, column)"
   ]
  },
  {
   "cell_type": "markdown",
   "id": "ab11edc0-1370-4634-8841-f6d674b3d6eb",
   "metadata": {},
   "source": [
    "### 5. 不同负载下的劣化程度"
   ]
  },
  {
   "cell_type": "code",
   "execution_count": null,
   "id": "f788098b-c76d-48e1-ba15-a1bb3cebf829",
   "metadata": {},
   "outputs": [],
   "source": [
    "det_df = agg_per_workload_stress(exp_data, no_stress_df_epoch, qos_column, stress=\"stress_cpu-load\")\n",
    "det_df"
   ]
  },
  {
   "cell_type": "code",
   "execution_count": null,
   "id": "6da2e81e-8f38-41b5-b621-224f12dce965",
   "metadata": {},
   "outputs": [],
   "source": [
    "display.plt_deterioration_heatmap(det_df, qos_column)"
   ]
  },
  {
   "cell_type": "markdown",
   "id": "058ebd60-824e-44a5-bee1-8401d5b56c8b",
   "metadata": {},
   "source": [
    "### 6. 不同干扰强度下的最大团"
   ]
  },
  {
   "cell_type": "code",
   "execution_count": null,
   "id": "c188a3a1-cff5-4bfe-a86d-d3552e642d59",
   "metadata": {},
   "outputs": [],
   "source": [
    "import functools\n",
    "\n",
    "\n",
    "largest_clique_dict = {}\n",
    "for i in range(exp_data.exp[\"n_epoch\"]):\n",
    "    workload_info = exp_data.workloads_of(df_key)[i]\n",
    "    corr_matrix = corr_f(exp_data.workload_df(workload_info))\n",
    "    G, cliques = analyze.cliques_from_corr(corr_matrix, threshold=0.90)\n",
    "    largest_clique_dict[stress + '_'+ str(i)] = set(cliques[0])\n",
    "    \n",
    "\n",
    "# 判断与交集的差异\n",
    "sets = list(largest_clique_dict.values())\n",
    "common_metric = functools.reduce(lambda a, b: a.intersection(b), sets)\n",
    "diff_largest_clique = {k : len(v) - len(common_metric) for k,v in largest_clique_dict.items()}\n",
    "\n",
    "print(common_metric)\n",
    "diff_largest_clique"
   ]
  },
  {
   "cell_type": "code",
   "execution_count": null,
   "id": "e31a6cbb-3005-4878-a750-3eb243927c37",
   "metadata": {},
   "outputs": [],
   "source": [
    "display.plt_clique_on_graph(G, common_metric, scaling=1.25, label_pos=0.35)"
   ]
  }
 ],
 "metadata": {
  "kernelspec": {
   "display_name": "Python 3 (ipykernel)",
   "language": "python",
   "name": "python3"
  },
  "language_info": {
   "codemirror_mode": {
    "name": "ipython",
    "version": 3
   },
   "file_extension": ".py",
   "mimetype": "text/x-python",
   "name": "python",
   "nbconvert_exporter": "python",
   "pygments_lexer": "ipython3",
   "version": "3.11.4"
  }
 },
 "nbformat": 4,
 "nbformat_minor": 5
}
