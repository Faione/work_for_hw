{
 "cells": [
  {
   "cell_type": "markdown",
   "id": "e17172af-9ba9-498b-9734-2f82162699fa",
   "metadata": {},
   "source": [
    "# 单 Workload 时序数据分析"
   ]
  },
  {
   "cell_type": "code",
   "execution_count": null,
   "id": "5d9b69f6-0e58-48b7-92fe-c6aa39c28dc0",
   "metadata": {},
   "outputs": [],
   "source": [
    "import sys\n",
    "sys.path.append('./tools')\n",
    "\n",
    "from aggregation import *\n",
    "import analyze\n",
    "import display\n",
    "\n",
    "pd.set_option('display.max_rows', 20) "
   ]
  },
  {
   "cell_type": "code",
   "execution_count": null,
   "id": "dbb0b386-e4b5-4154-be73-a6a3df008838",
   "metadata": {},
   "outputs": [],
   "source": [
    "exp_root = \"/home/ict/appProfile/data/redis/no_stress/redis_no_20231102130306\"\n",
    "qos_columns = [\n",
    "    \"app_redis_qos_qps_of_redis_get\",\n",
    "    \"app_redis_qos_qps_of_redis_total\",\n",
    "    \"app_redis_qos_qps_of_redis_set\",\n",
    "    \"app_redis_qos_p99_latency_set\",\n",
    "    \"app_redis_qos_p99_latency_get\",\n",
    "]\n",
    "\n",
    "exp_data = read_from_dir(exp_root)\n",
    "exp_data.set_workload_preprocess_funcs([\n",
    "    filter_column_startswith(col_prefix=(\"stress\", \"vm\", \"app\")),\n",
    "    filter_column_useless(excol_prefix=(\"stress\")),\n",
    "    filter_row_noise(col_prefix=(\"app\")),\n",
    "])\n",
    "\n",
    "keys = list(exp_data.exp[\"info_per_epoch\"][0][\"workloads\"].keys())\n",
    "keys"
   ]
  },
  {
   "cell_type": "code",
   "execution_count": null,
   "id": "b77b2f2c-d1b9-4a52-93b7-51d7e3aa8679",
   "metadata": {},
   "outputs": [],
   "source": [
    "workload_info = exp_data.workloads_of(keys[8])[0]\n",
    "# 选择QoS指标\n",
    "qos_column = qos_columns[3]\n",
    "# 相关性阈值\n",
    "c = 0.95\n",
    "\n",
    "df_workload = exp_data.workload_df(workload_info)\n",
    "df_workload"
   ]
  },
  {
   "cell_type": "code",
   "execution_count": null,
   "id": "a0d21c20-7808-4138-954d-774600e68789",
   "metadata": {},
   "outputs": [],
   "source": [
    "import numpy as np\n",
    "import matplotlib.pyplot as plt\n",
    "data_series = df_workload[qos_column]\n",
    "\n",
    "# 计算CDF\n",
    "sorted_data = np.sort(data_series)\n",
    "cdf = np.arange(1, len(sorted_data) + 1) / float(len(sorted_data))\n",
    "\n",
    "# 计算CDF\n",
    "sorted_data = np.sort(data_series)\n",
    "cdf = np.arange(1, len(sorted_data) + 1) / float(len(sorted_data))\n",
    "\n",
    "# 绘制CDF和直方图\n",
    "fig, ax1 = plt.subplots(figsize=(10, 6))\n",
    "\n",
    "# 左y轴绘制直方图\n",
    "ax1.hist(sorted_data, bins=50, density=True, alpha=0.5, color='b', label='Histogram')\n",
    "ax1.set_xlabel('p99 Latency')\n",
    "ax1.set_ylabel('Fraction of Time', color='b')\n",
    "ax1.tick_params(axis='y', labelcolor='b')\n",
    "ax1.grid(True)\n",
    "\n",
    "# 使用twinx()创建右y轴，绘制CDF\n",
    "ax2 = ax1.twinx()\n",
    "ax2.plot(sorted_data, cdf, color='r', label='CDF')\n",
    "ax2.set_ylabel('CDF', color='r')\n",
    "ax2.tick_params(axis='y', labelcolor='r')\n",
    "ax2.legend(loc='upper right')\n",
    "\n",
    "plt.show()"
   ]
  },
  {
   "cell_type": "markdown",
   "id": "7234af29-579b-4949-a3e7-2ff5e32e71eb",
   "metadata": {},
   "source": [
    "# 一、相关性分析"
   ]
  },
  {
   "cell_type": "markdown",
   "id": "561927a1-9f48-4d0c-8cec-7b708daf66e8",
   "metadata": {},
   "source": [
    "## (1) 皮尔逊相关性"
   ]
  },
  {
   "cell_type": "code",
   "execution_count": null,
   "id": "80a6454e-d820-4b18-9354-e2be99055f77",
   "metadata": {},
   "outputs": [],
   "source": [
    "pearson_corr_matrix = analyze.pearson_correlation(df_workload)\n",
    "pearson_corr_matrix"
   ]
  },
  {
   "cell_type": "code",
   "execution_count": null,
   "id": "463269ed-7d6c-4408-b697-cd0602167e14",
   "metadata": {},
   "outputs": [],
   "source": [
    "display.plt_corr_heatmap(pearson_corr_matrix)"
   ]
  },
  {
   "cell_type": "markdown",
   "id": "2d83dc5f-c6a6-4c8f-8f15-177e5433a609",
   "metadata": {},
   "source": [
    "### 1. 相关性排序"
   ]
  },
  {
   "cell_type": "code",
   "execution_count": null,
   "id": "ab96cf3a-4368-4684-890b-646475b46db2",
   "metadata": {},
   "outputs": [],
   "source": [
    "flat_corr_df = analyze.flatten_corr(\n",
    "    pearson_corr_matrix,\n",
    "    similarity_filter = [\n",
    "        lambda x: x[x.abs() > c].dropna(axis=0, how='all'),\n",
    "])\n",
    "flat_corr_df"
   ]
  },
  {
   "cell_type": "markdown",
   "id": "29837831-636d-4a02-9bd0-87dbfe22723a",
   "metadata": {},
   "source": [
    "### 2. QoS 相关指标"
   ]
  },
  {
   "cell_type": "code",
   "execution_count": null,
   "id": "513030a2-4323-4371-860e-1b746c1b3905",
   "metadata": {},
   "outputs": [],
   "source": [
    "qos_corr = analyze.single_corr(pearson_corr_matrix, qos_column, similarity_filter = [\n",
    "    lambda x: x[x.abs() > c].dropna(axis=0, how='all'),\n",
    "])\n",
    "qos_corr"
   ]
  },
  {
   "cell_type": "code",
   "execution_count": null,
   "id": "fff1959e-3578-4fe5-8533-31e070142e97",
   "metadata": {},
   "outputs": [],
   "source": [
    "columns = list(qos_corr.index)[:16]\n",
    "display.plt_by_column(df_workload, x_column=qos_column, columns=columns)"
   ]
  },
  {
   "cell_type": "markdown",
   "id": "7ab00df6-b245-405a-a5a0-a3f0cf5e3230",
   "metadata": {},
   "source": [
    "### 3. 相关性最大团"
   ]
  },
  {
   "cell_type": "code",
   "execution_count": null,
   "id": "1443272e-62f6-46fc-a3df-9165b1018676",
   "metadata": {},
   "outputs": [],
   "source": [
    "G, cliques = analyze.cliques_from_corr(pearson_corr_matrix, threshold=0.99)\n",
    "largest_clique = cliques[0]\n",
    "largest_clique"
   ]
  },
  {
   "cell_type": "code",
   "execution_count": null,
   "id": "4b6821ce-3600-444d-933e-f55c92b181aa",
   "metadata": {},
   "outputs": [],
   "source": [
    "display.plt_clique_on_graph(G, largest_clique, scaling=1.25, label_pos=0.35)"
   ]
  },
  {
   "cell_type": "markdown",
   "id": "09ba25cd-c59e-4fe7-bee3-8fa517bd5121",
   "metadata": {},
   "source": [
    "## (2) 余弦相似性"
   ]
  },
  {
   "cell_type": "code",
   "execution_count": null,
   "id": "634de4d3-5680-40fb-a267-4437ce4c8900",
   "metadata": {},
   "outputs": [],
   "source": [
    "cos_similarity_matrix = analyze.cosine_similarity(df_workload)\n",
    "cos_similarity_matrix"
   ]
  },
  {
   "cell_type": "code",
   "execution_count": null,
   "id": "150a0efe-157b-4b6b-aa08-7cd5b95e2e15",
   "metadata": {},
   "outputs": [],
   "source": [
    "display.plt_corr_heatmap(cos_similarity_matrix)"
   ]
  },
  {
   "cell_type": "markdown",
   "id": "c5bf5514-6838-4535-b2fd-76e29f8c7f89",
   "metadata": {},
   "source": [
    "### 1. 相似性排序"
   ]
  },
  {
   "cell_type": "code",
   "execution_count": null,
   "id": "7a744974-2231-4fda-89af-19cfadafd939",
   "metadata": {},
   "outputs": [],
   "source": [
    "flat_corr_df = analyze.flatten_corr(cos_similarity_matrix, similarity_filter = [\n",
    "    lambda x: x[x > c].dropna(axis=0, how='all'),\n",
    "])\n",
    "flat_corr_df"
   ]
  },
  {
   "cell_type": "markdown",
   "id": "ea3f44aa-81a5-46bc-887d-7c8575c47dbe",
   "metadata": {},
   "source": [
    "### 2. QoS 相似指标"
   ]
  },
  {
   "cell_type": "code",
   "execution_count": null,
   "id": "8f549c0d-e3da-4d6f-953b-56f999811867",
   "metadata": {},
   "outputs": [],
   "source": [
    "qos_corr = analyze.single_corr(cos_similarity_matrix, qos_column, similarity_filter = [\n",
    "    lambda x : x[x.abs() > c].dropna(axis=0, how='all'),\n",
    "    lambda x : x.drop(qos_columns, errors='ignore'),\n",
    "])\n",
    "qos_corr"
   ]
  },
  {
   "cell_type": "code",
   "execution_count": null,
   "id": "4b42a3dd-fde8-458c-8d7a-1e969204a246",
   "metadata": {},
   "outputs": [],
   "source": [
    "display.plt_by_column(df_workload, x_column=qos_column, columns=list(qos_corr.index), ncols=3)"
   ]
  },
  {
   "cell_type": "markdown",
   "id": "b5f3a837-9b2b-4e8e-9cfa-164c7575424d",
   "metadata": {},
   "source": [
    "### 3. 相似性最大团"
   ]
  },
  {
   "cell_type": "code",
   "execution_count": null,
   "id": "78e5f9cb-eb28-4af1-ba6b-7b5c0a56766b",
   "metadata": {},
   "outputs": [],
   "source": [
    "G, cliques = analyze.cliques_from_corr(cos_similarity_matrix, threshold=0.99)\n",
    "largest_clique = cliques[0]\n",
    "largest_clique"
   ]
  },
  {
   "cell_type": "code",
   "execution_count": null,
   "id": "2e96185e-f089-4cc0-a949-ae9e5a26a3af",
   "metadata": {},
   "outputs": [],
   "source": [
    "display.plt_clique_on_graph(G, largest_clique, scaling=1.25, label_pos=0.35)"
   ]
  }
 ],
 "metadata": {
  "kernelspec": {
   "display_name": "Python 3 (ipykernel)",
   "language": "python",
   "name": "python3"
  },
  "language_info": {
   "codemirror_mode": {
    "name": "ipython",
    "version": 3
   },
   "file_extension": ".py",
   "mimetype": "text/x-python",
   "name": "python",
   "nbconvert_exporter": "python",
   "pygments_lexer": "ipython3",
   "version": "3.11.4"
  }
 },
 "nbformat": 4,
 "nbformat_minor": 5
}
