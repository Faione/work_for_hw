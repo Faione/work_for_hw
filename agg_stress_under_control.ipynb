{
 "cells": [
  {
   "cell_type": "markdown",
   "id": "2f9c70c5-0c6a-43c2-8a7d-c18a95f397eb",
   "metadata": {},
   "source": [
    "# 干扰应用分析"
   ]
  },
  {
   "cell_type": "code",
   "execution_count": null,
   "id": "dee24310-2f95-4099-91d7-abde0bda5238",
   "metadata": {},
   "outputs": [],
   "source": [
    "import sys\n",
    "sys.path.append('./tools')\n",
    "\n",
    "from aggregation import *\n",
    "import analyze\n",
    "import display\n",
    "\n",
    "\n",
    "filters = [\n",
    "    filter_column_startswith(col_prefix=(\"container\")),\n",
    "    filter_column_useless(excol_prefix=(\"container\")),\n",
    "    filter_row_noise(col_prefix=(\"container\")),    \n",
    "]\n",
    "\n",
    "agg_funcs = [\n",
    "    lambda x : x.mean().to_frame().T,\n",
    "]\n",
    "\n",
    "after_agg_filters = [filter_column_useless()]\n",
    "\n",
    "exp_root = \"/home/ict/appProfile/data/stress_test/same_cpu\"\n",
    "exp_roots = {\"stresses\": []}\n",
    "for dir in os.listdir(exp_root):\n",
    "    if dir == \".ipynb_checkpoints\":\n",
    "        continue\n",
    "    exp_roots[\"stresses\"].append(os.path.join(exp_root, dir))\n",
    "\n",
    "exp_roots[\"stresses\"].sort(key=lambda x : int(x.split('_')[-1]))\n",
    "exp_roots"
   ]
  },
  {
   "cell_type": "markdown",
   "id": "ef0aee6d-9e0b-4444-aaeb-a11525fd3673",
   "metadata": {},
   "source": [
    "## 一、CPU"
   ]
  },
  {
   "cell_type": "code",
   "execution_count": null,
   "id": "2755b04e-7ea4-40ad-b121-8041763de185",
   "metadata": {},
   "outputs": [],
   "source": [
    "stress = \"cpu\"\n",
    "exp_root = exp_roots[\"stresses\"][1]\n",
    "\n",
    "exp_data = read_from_dir(exp_root)\n",
    "exp_data.set_workload_preprocess_funcs([\n",
    "    filter_column_startswith(col_prefix=(\"container\")),\n",
    "    filter_column_useless(),\n",
    "    filter_row_noise(col_prefix=(\"container\")),\n",
    "]).workload_keys()\n",
    "\n",
    "df_workload = exp_data.agg_epoch()\n",
    "df_workload[stress] = [i+1 for i in range(len(df_workload))]\n",
    "df_workload"
   ]
  },
  {
   "cell_type": "code",
   "execution_count": null,
   "id": "d0a446c5-0aac-4b3a-be8e-e7565b527c7f",
   "metadata": {},
   "outputs": [],
   "source": [
    "df_epoch = exp_data.agg_epoch()\n",
    "display.plt_by_column(df_epoch)\n",
    "df_epoch.columns"
   ]
  },
  {
   "cell_type": "code",
   "execution_count": null,
   "id": "63112215-7200-4395-a238-cdeab2b4893d",
   "metadata": {},
   "outputs": [],
   "source": [
    "column = \"container_cache_llc_capacity_numa_3\"\n",
    "df = exp_data.one_column_on_workloads(column)\n",
    "display.plt_box(df, \"\", column)"
   ]
  },
  {
   "cell_type": "markdown",
   "id": "eaf7c03a-16a5-4cd4-a24b-14cd037743ad",
   "metadata": {},
   "source": [
    "## 二、CPU"
   ]
  },
  {
   "cell_type": "code",
   "execution_count": null,
   "id": "5579e6b6-1592-40a1-b3c8-9159c6017b12",
   "metadata": {},
   "outputs": [],
   "source": [
    "exp_root = exp_roots[\"stresses\"][1]\n",
    "\n",
    "exp_data = read_from_dir(exp_root)\n",
    "exp_data.set_workload_preprocess_funcs([\n",
    "    filter_column_startswith(col_prefix=(\"container\")),\n",
    "    filter_column_useless(),\n",
    "    filter_row_noise(col_prefix=(\"container\")),\n",
    "]).workload_keys()"
   ]
  },
  {
   "cell_type": "code",
   "execution_count": null,
   "id": "dbfe0868-d96d-468c-9fbc-58e9455b6213",
   "metadata": {},
   "outputs": [],
   "source": [
    "df_epoch = exp_data.agg_epoch()\n",
    "display.plt_by_column(df_epoch)\n",
    "df_epoch.columns"
   ]
  },
  {
   "cell_type": "code",
   "execution_count": null,
   "id": "3f3b01ef-744c-4034-8160-6a5e390a0f3e",
   "metadata": {},
   "outputs": [],
   "source": [
    "column = df_epoch.columns[3]\n",
    "# 临时处理\n",
    "column = \"container_memory_usage\"\n",
    "#\n",
    "df = exp_data.one_column_on_workloads(column)\n",
    "display.plt_box(df, \"\", column)"
   ]
  },
  {
   "cell_type": "markdown",
   "id": "af9fcabc-58dd-4966-8b9e-f2d743a58c12",
   "metadata": {},
   "source": [
    "## 三、IO"
   ]
  },
  {
   "cell_type": "code",
   "execution_count": null,
   "id": "17e46c44-23ea-4e59-9faf-61fb3af5f26e",
   "metadata": {},
   "outputs": [],
   "source": [
    "exp_root = exp_roots[\"stresses\"][2]\n",
    "\n",
    "exp_data = read_from_dir(exp_root)\n",
    "exp_data.set_workload_preprocess_funcs([\n",
    "    filter_column_startswith(col_prefix=(\"container\")),\n",
    "    filter_column_useless(),\n",
    "    filter_row_noise(col_prefix=(\"container\")),\n",
    "]).workload_keys()"
   ]
  },
  {
   "cell_type": "code",
   "execution_count": null,
   "id": "77f8c520-1feb-489d-9655-e6e1661e8bf9",
   "metadata": {},
   "outputs": [],
   "source": [
    "df_epoch = exp_data.agg_epoch()\n",
    "display.plt_by_column(df_epoch)\n",
    "df_epoch.columns"
   ]
  },
  {
   "cell_type": "code",
   "execution_count": null,
   "id": "738cd3cc-c9fd-4dfc-9253-9c1e1eed599d",
   "metadata": {},
   "outputs": [],
   "source": [
    "column = df_epoch.columns[-2]\n",
    "# 临时处理\n",
    "column = \"container_block_io_bytes_output\"\n",
    "#\n",
    "df = exp_data.one_column_on_workloads(column)\n",
    "display.plt_box(df, \"\", column)"
   ]
  },
  {
   "cell_type": "markdown",
   "id": "f3558fd2-22ad-4c7c-8ff5-2050186a5167",
   "metadata": {},
   "source": [
    "## 四、VM"
   ]
  },
  {
   "cell_type": "code",
   "execution_count": null,
   "id": "d26f5658-1b9f-4615-914e-af1a79a313d0",
   "metadata": {},
   "outputs": [],
   "source": [
    "exp_root = exp_roots[\"stresses\"][3]\n",
    "\n",
    "exp_data = read_from_dir(exp_root)\n",
    "exp_data.set_workload_preprocess_funcs([\n",
    "    filter_column_startswith(col_prefix=(\"container\")),\n",
    "    filter_column_useless(),\n",
    "    filter_row_noise(col_prefix=(\"container\")),\n",
    "]).workload_keys()"
   ]
  },
  {
   "cell_type": "code",
   "execution_count": null,
   "id": "448b75c5-68c6-4ea5-a7bd-dfed069a6758",
   "metadata": {},
   "outputs": [],
   "source": [
    "df_epoch = exp_data.agg_epoch()\n",
    "display.plt_by_column(df_epoch)\n",
    "df_epoch.columns"
   ]
  },
  {
   "cell_type": "code",
   "execution_count": null,
   "id": "25ac5142-c570-42df-9d2a-f12b1217519d",
   "metadata": {},
   "outputs": [],
   "source": [
    "column = df_epoch.columns[0]\n",
    "# 临时处理\n",
    "column = \"container_memory_usage\"\n",
    "#\n",
    "df = exp_data.one_column_on_workloads(column)\n",
    "display.plt_box(df, \"\", column)"
   ]
  },
  {
   "cell_type": "code",
   "execution_count": null,
   "id": "96dc84ed-9180-4d5b-a56b-63f94539dcbc",
   "metadata": {},
   "outputs": [],
   "source": [
    "# exp_root = \"/home/ict/appProfile/data/stress_test/same_cpuset/net_no_20231026122017\"\n",
    "# plt_per_column(exp_root)"
   ]
  }
 ],
 "metadata": {
  "kernelspec": {
   "display_name": "Python 3 (ipykernel)",
   "language": "python",
   "name": "python3"
  },
  "language_info": {
   "codemirror_mode": {
    "name": "ipython",
    "version": 3
   },
   "file_extension": ".py",
   "mimetype": "text/x-python",
   "name": "python",
   "nbconvert_exporter": "python",
   "pygments_lexer": "ipython3",
   "version": "3.11.4"
  }
 },
 "nbformat": 4,
 "nbformat_minor": 5
}
