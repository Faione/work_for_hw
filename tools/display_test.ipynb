{
 "cells": [
  {
   "cell_type": "code",
   "execution_count": null,
   "id": "c393497f-83f4-4ff9-8590-f4ced990584f",
   "metadata": {},
   "outputs": [],
   "source": [
    "from display import *"
   ]
  },
  {
   "cell_type": "code",
   "execution_count": null,
   "id": "318e4efa-81d9-4698-a633-2c287ee27054",
   "metadata": {},
   "outputs": [],
   "source": []
  }
 ],
 "metadata": {
  "kernelspec": {
   "display_name": "Python 3 (ipykernel)",
   "language": "python",
   "name": "python3"
  },
  "language_info": {
   "codemirror_mode": {
    "name": "ipython",
    "version": 3
   },
   "file_extension": ".py",
   "mimetype": "text/x-python",
   "name": "python",
   "nbconvert_exporter": "python",
   "pygments_lexer": "ipython3",
   "version": "3.11.4"
  }
 },
 "nbformat": 4,
 "nbformat_minor": 5
}
