{
 "cells": [
  {
   "cell_type": "code",
   "execution_count": null,
   "id": "b19c6558-0615-4f3a-b710-ac6af214e97a",
   "metadata": {},
   "outputs": [],
   "source": [
    "from generator import *"
   ]
  },
  {
   "cell_type": "code",
   "execution_count": null,
   "id": "74c9f6f5-e796-43aa-a826-91ec57a76634",
   "metadata": {},
   "outputs": [],
   "source": [
    "workloads = Flags(\n",
    "    flag_base =\"docker exec -it redis-client-1 memtier_benchmark\"\n",
    "    ).with_flag(flag=\"-s\", vranges=[\"envoy\"]\n",
    "    ).with_flag(flag=\"--test-time\", vranges=[\"120\"]\n",
    "    ).with_flag(flag=\"-t\", vranges=[100, 101]).flag_list()\n",
    "workloads"
   ]
  },
  {
   "cell_type": "code",
   "execution_count": null,
   "id": "fd649b57-93af-4316-80ef-f4b4514524ff",
   "metadata": {},
   "outputs": [],
   "source": [
    "streses = Flags(\n",
    "    flag_base=\"podman run --name stress_mem -d --rm --cpuset-cpus 40-59,125-139 localhost/my-stress-ng:v0.1  --memrate-rd-mbs 1000 --memrate-wr-mbs 1000\"\n",
    "    ).with_flag(flag=\"--memrate_range\", vranges=range(1, 2, 1)\n",
    "    ).with_flag(flag=\"--memrate_byte\", vranges=[\"1G\"]\n",
    "    )\n",
    "for stress_flag in streses.iter():\n",
    "    print(stress_flag)"
   ]
  },
  {
   "cell_type": "code",
   "execution_count": null,
   "id": "c20c9821-95d9-4115-bcdc-752dc7d70f74",
   "metadata": {},
   "outputs": [],
   "source": [
    "streses = Flags(\n",
    "    flag_base=\"podman run --name stress_mem -d --rm --cpuset-cpus 40-59,125-139 localhost/my-stress-ng:v0.1  --memrate-rd-mbs 1000 --memrate-wr-mbs 1000\"\n",
    "    ).flag_list()\n",
    "streses"
   ]
  }
 ],
 "metadata": {
  "kernelspec": {
   "display_name": "Python 3 (ipykernel)",
   "language": "python",
   "name": "python3"
  },
  "language_info": {
   "codemirror_mode": {
    "name": "ipython",
    "version": 3
   },
   "file_extension": ".py",
   "mimetype": "text/x-python",
   "name": "python",
   "nbconvert_exporter": "python",
   "pygments_lexer": "ipython3",
   "version": "3.11.4"
  }
 },
 "nbformat": 4,
 "nbformat_minor": 5
}
