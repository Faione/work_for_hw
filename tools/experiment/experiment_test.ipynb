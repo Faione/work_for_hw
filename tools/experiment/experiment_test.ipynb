{
 "cells": [
  {
   "cell_type": "code",
   "execution_count": null,
   "id": "395ab08a-03f9-444a-b7b6-7804c63517d4",
   "metadata": {},
   "outputs": [],
   "source": [
    "from experiment import *\n",
    "from executor import *\n",
    "\n",
    "logger = logging.getLogger()\n",
    "logger.setLevel(logging.INFO)"
   ]
  },
  {
   "cell_type": "code",
   "execution_count": null,
   "id": "4f5575a9-183f-4051-83fb-748226325050",
   "metadata": {},
   "outputs": [],
   "source": [
    "wexec = WorkloadExecutor(**{\n",
    "    \"cmd_base\": \"docker exec -it redis-client-1 memtier_benchmark\",\n",
    "    \"type\": \"redis\",\n",
    "    \"warmup_cmd\": \"docker exec -it redis-client-1 memtier_benchmark -s envoy --test-time 10\",\n",
    "    \"opt_interval\": 2,\n",
    "}\n",
    ").with_flag(\n",
    "    \"-s\", [\"envoy\"]\n",
    ").with_flag(\n",
    "    \"--test-time\", [120]\n",
    ").with_flag(\n",
    "    \"-t\", [100, 120]\n",
    ")\n",
    "\n",
    "sexec = StressExecutor(**{\n",
    "    \"cmd_base\": \"ssh fhl@worknode-01 sudo podman run\",\n",
    "    \"flag_base\": \"-d --rm --cpuset-cpus 40-59,125-139 localhost/my-stress-ng:v0.1 --memrate-rd-mbs 1000 --memrate-wr-mbs 1000\",\n",
    "    \"stop_cmd\": \"ssh fhl@worknode-01 sudo podman stop\",\n",
    "    \"type\": \"mem\",\n",
    "    \"opt_interval\": 2,\n",
    "}\n",
    ").with_flag(\n",
    "    \"--memrate_range\", range(1, 20, 10)\n",
    ").with_flag(\n",
    "    \"memrate_byte\", [\"1G\"]\n",
    ")\n"
   ]
  },
  {
   "cell_type": "code",
   "execution_count": null,
   "id": "a9e72342-6b51-46d5-a607-035afba92e84",
   "metadata": {},
   "outputs": [],
   "source": [
    "exp = Experiment(**{\n",
    "    \"n_epoch\": 1,\n",
    "})\n",
    "\n",
    "exp.run(wexec, None, interval=0)\n",
    "print(exp.dir_name())\n",
    "exp.__dict__"
   ]
  },
  {
   "cell_type": "code",
   "execution_count": null,
   "id": "c4c3153f-ceba-4005-ab8d-b0af568261a7",
   "metadata": {},
   "outputs": [],
   "source": [
    "exp = Experiment()\n",
    "\n",
    "exp.run(wexec, sexec, interval=0)\n",
    "print(exp.dir_name())\n",
    "exp.__dict__"
   ]
  },
  {
   "cell_type": "code",
   "execution_count": null,
   "id": "f533f251-8e5a-4b7b-92e8-f964ebda06b8",
   "metadata": {},
   "outputs": [],
   "source": [
    "a = 1701253804 - 1701253796\n",
    "a"
   ]
  },
  {
   "cell_type": "code",
   "execution_count": null,
   "id": "f4d446f6-e500-4210-b87a-05b19383dcf8",
   "metadata": {},
   "outputs": [],
   "source": []
  }
 ],
 "metadata": {
  "kernelspec": {
   "display_name": "Python 3 (ipykernel)",
   "language": "python",
   "name": "python3"
  },
  "language_info": {
   "codemirror_mode": {
    "name": "ipython",
    "version": 3
   },
   "file_extension": ".py",
   "mimetype": "text/x-python",
   "name": "python",
   "nbconvert_exporter": "python",
   "pygments_lexer": "ipython3",
   "version": "3.11.4"
  }
 },
 "nbformat": 4,
 "nbformat_minor": 5
}
